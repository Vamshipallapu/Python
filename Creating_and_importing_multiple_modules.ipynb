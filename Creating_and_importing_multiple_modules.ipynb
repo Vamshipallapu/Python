{
  "nbformat": 4,
  "nbformat_minor": 0,
  "metadata": {
    "colab": {
      "provenance": []
    },
    "kernelspec": {
      "name": "python3",
      "display_name": "Python 3"
    },
    "language_info": {
      "name": "python"
    }
  },
  "cells": [
    {
      "cell_type": "code",
      "source": [
        "import mod1"
      ],
      "metadata": {
        "id": "ocZmKwHnp4wq"
      },
      "execution_count": 17,
      "outputs": []
    },
    {
      "cell_type": "code",
      "source": [
        "from mod1 import *"
      ],
      "metadata": {
        "id": "I-8hqtLip6if"
      },
      "execution_count": 18,
      "outputs": []
    },
    {
      "cell_type": "code",
      "source": [
        "mod1.fn1()"
      ],
      "metadata": {
        "colab": {
          "base_uri": "https://localhost:8080/"
        },
        "id": "4t47DWVyqF82",
        "outputId": "85c8615d-4c8b-4d3e-b8f6-3004a881885a"
      },
      "execution_count": 19,
      "outputs": [
        {
          "output_type": "stream",
          "name": "stdout",
          "text": [
            "mod1fn1\n"
          ]
        }
      ]
    },
    {
      "cell_type": "code",
      "source": [],
      "metadata": {
        "id": "OYTqSOMxqIxR"
      },
      "execution_count": null,
      "outputs": []
    }
  ]
}